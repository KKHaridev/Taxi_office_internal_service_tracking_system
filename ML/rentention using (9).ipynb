{
 "cells": [
  {
   "cell_type": "code",
   "execution_count": 1,
   "id": "a0def96f",
   "metadata": {},
   "outputs": [],
   "source": [
    "# Import necessary libraries\n",
    "import pandas as pd\n",
    "import numpy as np\n",
    "import matplotlib.pyplot as plt"
   ]
  },
  {
   "cell_type": "code",
   "execution_count": 2,
   "id": "35e61206",
   "metadata": {},
   "outputs": [],
   "source": [
    "# Load the dataset\n",
    "df = pd.read_csv('yellow_tripdata_2016-03.csv')"
   ]
  },
  {
   "cell_type": "code",
   "execution_count": 3,
   "id": "f5440d58",
   "metadata": {},
   "outputs": [],
   "source": [
    "df = df.sample(n=20000, random_state=42)\n",
    "\n",
    "# Save the new CSV file\n",
    "df.to_csv('yellow_tripdata_2016-03_1.csv', index=False)"
   ]
  },
  {
   "cell_type": "code",
   "execution_count": 4,
   "id": "2c70b91e",
   "metadata": {},
   "outputs": [
    {
     "data": {
      "text/html": [
       "<div>\n",
       "<style scoped>\n",
       "    .dataframe tbody tr th:only-of-type {\n",
       "        vertical-align: middle;\n",
       "    }\n",
       "\n",
       "    .dataframe tbody tr th {\n",
       "        vertical-align: top;\n",
       "    }\n",
       "\n",
       "    .dataframe thead th {\n",
       "        text-align: right;\n",
       "    }\n",
       "</style>\n",
       "<table border=\"1\" class=\"dataframe\">\n",
       "  <thead>\n",
       "    <tr style=\"text-align: right;\">\n",
       "      <th></th>\n",
       "      <th>VendorID</th>\n",
       "      <th>tpep_pickup_datetime</th>\n",
       "      <th>tpep_dropoff_datetime</th>\n",
       "      <th>passenger_count</th>\n",
       "      <th>trip_distance</th>\n",
       "      <th>pickup_longitude</th>\n",
       "      <th>pickup_latitude</th>\n",
       "      <th>RatecodeID</th>\n",
       "      <th>store_and_fwd_flag</th>\n",
       "      <th>dropoff_longitude</th>\n",
       "      <th>dropoff_latitude</th>\n",
       "      <th>payment_type</th>\n",
       "      <th>fare_amount</th>\n",
       "      <th>extra</th>\n",
       "      <th>mta_tax</th>\n",
       "      <th>tip_amount</th>\n",
       "      <th>tolls_amount</th>\n",
       "      <th>improvement_surcharge</th>\n",
       "      <th>total_amount</th>\n",
       "    </tr>\n",
       "  </thead>\n",
       "  <tbody>\n",
       "    <tr>\n",
       "      <th>10557736</th>\n",
       "      <td>1</td>\n",
       "      <td>2016-03-27 15:08:52</td>\n",
       "      <td>2016-03-27 15:13:17</td>\n",
       "      <td>1</td>\n",
       "      <td>0.50</td>\n",
       "      <td>-73.984329</td>\n",
       "      <td>40.725151</td>\n",
       "      <td>1</td>\n",
       "      <td>N</td>\n",
       "      <td>-73.988426</td>\n",
       "      <td>40.718460</td>\n",
       "      <td>1</td>\n",
       "      <td>5.0</td>\n",
       "      <td>0.0</td>\n",
       "      <td>0.5</td>\n",
       "      <td>0.00</td>\n",
       "      <td>0.00</td>\n",
       "      <td>0.3</td>\n",
       "      <td>5.80</td>\n",
       "    </tr>\n",
       "    <tr>\n",
       "      <th>7714021</th>\n",
       "      <td>2</td>\n",
       "      <td>2016-03-23 11:51:00</td>\n",
       "      <td>2016-03-23 12:05:01</td>\n",
       "      <td>1</td>\n",
       "      <td>0.91</td>\n",
       "      <td>-73.994087</td>\n",
       "      <td>40.741070</td>\n",
       "      <td>1</td>\n",
       "      <td>N</td>\n",
       "      <td>-73.994453</td>\n",
       "      <td>40.750648</td>\n",
       "      <td>1</td>\n",
       "      <td>10.0</td>\n",
       "      <td>0.0</td>\n",
       "      <td>0.5</td>\n",
       "      <td>2.16</td>\n",
       "      <td>0.00</td>\n",
       "      <td>0.3</td>\n",
       "      <td>12.96</td>\n",
       "    </tr>\n",
       "    <tr>\n",
       "      <th>2577447</th>\n",
       "      <td>2</td>\n",
       "      <td>2016-03-06 20:37:43</td>\n",
       "      <td>2016-03-06 20:56:03</td>\n",
       "      <td>1</td>\n",
       "      <td>10.43</td>\n",
       "      <td>-73.874496</td>\n",
       "      <td>40.774109</td>\n",
       "      <td>1</td>\n",
       "      <td>N</td>\n",
       "      <td>-73.974083</td>\n",
       "      <td>40.753380</td>\n",
       "      <td>1</td>\n",
       "      <td>29.0</td>\n",
       "      <td>0.5</td>\n",
       "      <td>0.5</td>\n",
       "      <td>8.96</td>\n",
       "      <td>5.54</td>\n",
       "      <td>0.3</td>\n",
       "      <td>44.80</td>\n",
       "    </tr>\n",
       "    <tr>\n",
       "      <th>4438081</th>\n",
       "      <td>1</td>\n",
       "      <td>2016-03-15 12:08:22</td>\n",
       "      <td>2016-03-15 12:53:01</td>\n",
       "      <td>1</td>\n",
       "      <td>11.70</td>\n",
       "      <td>-73.872704</td>\n",
       "      <td>40.774269</td>\n",
       "      <td>1</td>\n",
       "      <td>N</td>\n",
       "      <td>-73.983513</td>\n",
       "      <td>40.750534</td>\n",
       "      <td>1</td>\n",
       "      <td>43.5</td>\n",
       "      <td>0.0</td>\n",
       "      <td>0.5</td>\n",
       "      <td>9.95</td>\n",
       "      <td>5.54</td>\n",
       "      <td>0.3</td>\n",
       "      <td>59.79</td>\n",
       "    </tr>\n",
       "    <tr>\n",
       "      <th>516516</th>\n",
       "      <td>1</td>\n",
       "      <td>2016-03-02 07:20:25</td>\n",
       "      <td>2016-03-02 07:26:12</td>\n",
       "      <td>1</td>\n",
       "      <td>1.30</td>\n",
       "      <td>-73.981735</td>\n",
       "      <td>40.740677</td>\n",
       "      <td>1</td>\n",
       "      <td>N</td>\n",
       "      <td>-73.974678</td>\n",
       "      <td>40.755955</td>\n",
       "      <td>1</td>\n",
       "      <td>6.5</td>\n",
       "      <td>0.0</td>\n",
       "      <td>0.5</td>\n",
       "      <td>2.00</td>\n",
       "      <td>0.00</td>\n",
       "      <td>0.3</td>\n",
       "      <td>9.30</td>\n",
       "    </tr>\n",
       "  </tbody>\n",
       "</table>\n",
       "</div>"
      ],
      "text/plain": [
       "          VendorID tpep_pickup_datetime tpep_dropoff_datetime  \\\n",
       "10557736         1  2016-03-27 15:08:52   2016-03-27 15:13:17   \n",
       "7714021          2  2016-03-23 11:51:00   2016-03-23 12:05:01   \n",
       "2577447          2  2016-03-06 20:37:43   2016-03-06 20:56:03   \n",
       "4438081          1  2016-03-15 12:08:22   2016-03-15 12:53:01   \n",
       "516516           1  2016-03-02 07:20:25   2016-03-02 07:26:12   \n",
       "\n",
       "          passenger_count  trip_distance  pickup_longitude  pickup_latitude  \\\n",
       "10557736                1           0.50        -73.984329        40.725151   \n",
       "7714021                 1           0.91        -73.994087        40.741070   \n",
       "2577447                 1          10.43        -73.874496        40.774109   \n",
       "4438081                 1          11.70        -73.872704        40.774269   \n",
       "516516                  1           1.30        -73.981735        40.740677   \n",
       "\n",
       "          RatecodeID store_and_fwd_flag  dropoff_longitude  dropoff_latitude  \\\n",
       "10557736           1                  N         -73.988426         40.718460   \n",
       "7714021            1                  N         -73.994453         40.750648   \n",
       "2577447            1                  N         -73.974083         40.753380   \n",
       "4438081            1                  N         -73.983513         40.750534   \n",
       "516516             1                  N         -73.974678         40.755955   \n",
       "\n",
       "          payment_type  fare_amount  extra  mta_tax  tip_amount  tolls_amount  \\\n",
       "10557736             1          5.0    0.0      0.5        0.00          0.00   \n",
       "7714021              1         10.0    0.0      0.5        2.16          0.00   \n",
       "2577447              1         29.0    0.5      0.5        8.96          5.54   \n",
       "4438081              1         43.5    0.0      0.5        9.95          5.54   \n",
       "516516               1          6.5    0.0      0.5        2.00          0.00   \n",
       "\n",
       "          improvement_surcharge  total_amount  \n",
       "10557736                    0.3          5.80  \n",
       "7714021                     0.3         12.96  \n",
       "2577447                     0.3         44.80  \n",
       "4438081                     0.3         59.79  \n",
       "516516                      0.3          9.30  "
      ]
     },
     "execution_count": 4,
     "metadata": {},
     "output_type": "execute_result"
    }
   ],
   "source": [
    "df.head()"
   ]
  },
  {
   "cell_type": "code",
   "execution_count": 5,
   "id": "df1eaefb",
   "metadata": {},
   "outputs": [],
   "source": [
    "# Data Preprocessing\n",
    "df.drop_duplicates(inplace=True)\n",
    "df.dropna(inplace=True)\n",
    "df['tpep_pickup_datetime'] = pd.to_datetime(df['tpep_pickup_datetime'])\n",
    "df['tpep_dropoff_datetime'] = pd.to_datetime(df['tpep_dropoff_datetime'])\n",
    "df['tpep_pickup_datetime_float'] = df['tpep_pickup_datetime'].apply(lambda x: x.timestamp())\n",
    "df['tpep_dropoff_datetime_float'] = df['tpep_dropoff_datetime'].apply(lambda x: x.timestamp())\n",
    "\n",
    "# Convert 'tpep_pickup_datetime' to numeric representation (Unix timestamp as integer)\n",
    "df['tpep_pickup_numeric'] = df['tpep_pickup_datetime'].view('int64') // 10**9\n",
    "\n",
    "# Convert 'tpep_dropoff_datetime' to numeric representation (Unix timestamp as integer)\n",
    "df['tpep_dropoff_numeric'] = df['tpep_dropoff_datetime'].view('int64') // 10**9\n",
    "\n",
    "df['day_of_week'] = df['tpep_pickup_datetime'].dt.dayofweek\n",
    "df['hour_of_day'] = df['tpep_pickup_datetime'].dt.hour\n",
    "df = df[(df['trip_distance'] > 0) & (df['passenger_count'] > 0)]\n"
   ]
  },
  {
   "cell_type": "code",
   "execution_count": 6,
   "id": "73841af0",
   "metadata": {},
   "outputs": [],
   "source": [
    "#df = df.sample(frac=0.25, random_state=42)\n",
    "#df.head(5)"
   ]
  },
  {
   "cell_type": "code",
   "execution_count": 7,
   "id": "c16933db",
   "metadata": {},
   "outputs": [
    {
     "name": "stdout",
     "output_type": "stream",
     "text": [
      "<class 'pandas.core.frame.DataFrame'>\n",
      "Int64Index: 19889 entries, 10557736 to 4868631\n",
      "Data columns (total 25 columns):\n",
      " #   Column                       Non-Null Count  Dtype         \n",
      "---  ------                       --------------  -----         \n",
      " 0   VendorID                     19889 non-null  int64         \n",
      " 1   tpep_pickup_datetime         19889 non-null  datetime64[ns]\n",
      " 2   tpep_dropoff_datetime        19889 non-null  datetime64[ns]\n",
      " 3   passenger_count              19889 non-null  int64         \n",
      " 4   trip_distance                19889 non-null  float64       \n",
      " 5   pickup_longitude             19889 non-null  float64       \n",
      " 6   pickup_latitude              19889 non-null  float64       \n",
      " 7   RatecodeID                   19889 non-null  int64         \n",
      " 8   store_and_fwd_flag           19889 non-null  object        \n",
      " 9   dropoff_longitude            19889 non-null  float64       \n",
      " 10  dropoff_latitude             19889 non-null  float64       \n",
      " 11  payment_type                 19889 non-null  int64         \n",
      " 12  fare_amount                  19889 non-null  float64       \n",
      " 13  extra                        19889 non-null  float64       \n",
      " 14  mta_tax                      19889 non-null  float64       \n",
      " 15  tip_amount                   19889 non-null  float64       \n",
      " 16  tolls_amount                 19889 non-null  float64       \n",
      " 17  improvement_surcharge        19889 non-null  float64       \n",
      " 18  total_amount                 19889 non-null  float64       \n",
      " 19  tpep_pickup_datetime_float   19889 non-null  float64       \n",
      " 20  tpep_dropoff_datetime_float  19889 non-null  float64       \n",
      " 21  tpep_pickup_numeric          19889 non-null  int64         \n",
      " 22  tpep_dropoff_numeric         19889 non-null  int64         \n",
      " 23  day_of_week                  19889 non-null  int64         \n",
      " 24  hour_of_day                  19889 non-null  int64         \n",
      "dtypes: datetime64[ns](2), float64(14), int64(8), object(1)\n",
      "memory usage: 3.9+ MB\n"
     ]
    }
   ],
   "source": [
    "df.info()"
   ]
  },
  {
   "cell_type": "code",
   "execution_count": 8,
   "id": "1f136b57",
   "metadata": {},
   "outputs": [],
   "source": [
    "# Feature Selection\n",
    "features = ['tpep_pickup_numeric','tpep_dropoff_numeric','passenger_count', 'trip_distance', 'pickup_longitude', 'pickup_latitude', 'dropoff_longitude', 'dropoff_latitude']"
   ]
  },
  {
   "cell_type": "code",
   "execution_count": 9,
   "id": "f44c782e",
   "metadata": {},
   "outputs": [
    {
     "name": "stdout",
     "output_type": "stream",
     "text": [
      "2    6776\n",
      "1    6577\n",
      "0    6536\n",
      "Name: cluster, dtype: int64\n"
     ]
    }
   ],
   "source": [
    "from sklearn.cluster import KMeans\n",
    "\n",
    "X = df[features]\n",
    "\n",
    "# Perform K-Means clustering\n",
    "k = 3  # Number of clusters\n",
    "kmeans = KMeans(n_clusters=k, random_state=42)\n",
    "kmeans.fit(X)\n",
    "\n",
    "# Add cluster labels to the dataset\n",
    "df['cluster'] = kmeans.labels_\n",
    "\n",
    "# Analyze cab retention based on clusters\n",
    "cluster_counts = df['cluster'].value_counts()\n",
    "print(cluster_counts)"
   ]
  },
  {
   "cell_type": "code",
   "execution_count": 10,
   "id": "1300e74e",
   "metadata": {},
   "outputs": [
    {
     "name": "stdout",
     "output_type": "stream",
     "text": [
      "   tpep_pickup_numeric  tpep_dropoff_numeric  passenger_count  trip_distance  \\\n",
      "0         1.457229e+09          1.457230e+09         1.648247       2.872644   \n",
      "1         1.459025e+09          1.459026e+09         1.665957       3.006567   \n",
      "2         1.458111e+09          1.458112e+09         1.664551       3.009802   \n",
      "\n",
      "   pickup_longitude  pickup_latitude  dropoff_longitude  dropoff_latitude  \n",
      "0        -72.796817        40.103019         -72.909508         40.165627  \n",
      "1        -72.939781        40.180940         -73.096459         40.268392  \n",
      "2        -72.805480        40.106224         -72.947497         40.186111  \n"
     ]
    }
   ],
   "source": [
    "\n",
    "# Get the cluster labels\n",
    "cluster_labels = kmeans.labels_\n",
    "\n",
    "# Get the cluster centroids\n",
    "centroids = kmeans.cluster_centers_\n",
    "\n",
    "# Convert the cluster centroids to a DataFrame for better visualization\n",
    "centroids_df = pd.DataFrame(centroids, columns=['tpep_pickup_numeric','tpep_dropoff_numeric','passenger_count', 'trip_distance', 'pickup_longitude', 'pickup_latitude', 'dropoff_longitude', 'dropoff_latitude'])\n",
    "\n",
    "# Print the centroids DataFrame\n",
    "print(centroids_df)\n"
   ]
  },
  {
   "cell_type": "code",
   "execution_count": 11,
   "id": "9a525f54",
   "metadata": {},
   "outputs": [
    {
     "data": {
      "image/png": "[encoded data removed]",
      "text/plain": [
       "<Figure size 640x480 with 1 Axes>"
      ]
     },
     "metadata": {},
     "output_type": "display_data"
    }
   ],
   "source": [
    "\n",
    "import matplotlib.pyplot as plt\n",
    "from sklearn.cluster import KMeans\n",
    "\n",
    "# Define the range of clusters to explore\n",
    "min_clusters = 2\n",
    "max_clusters = 10\n",
    "\n",
    "# Perform K-Means clustering for different values of k\n",
    "wcss = []\n",
    "for k in range(min_clusters, max_clusters + 1):\n",
    "    wcss.append(kmeans.inertia_)\n",
    "\n",
    "# Plot the within-cluster sum of squares (WCSS) or distortion\n",
    "plt.plot(range(min_clusters, max_clusters + 1), wcss, marker='o')\n",
    "plt.xlabel('Number of Clusters (k)')\n",
    "plt.ylabel('WCSS')\n",
    "plt.title('Elbow Method - Optimal Number of Clusters')\n",
    "plt.show()"
   ]
  },
  {
   "cell_type": "code",
   "execution_count": 12,
   "id": "b800ef32",
   "metadata": {},
   "outputs": [
    {
     "data": {
      "image/png": "[encoded data removed]",
      "text/plain": [
       "<Figure size 640x480 with 1 Axes>"
      ]
     },
     "metadata": {},
     "output_type": "display_data"
    }
   ],
   "source": [
    "\n",
    "centroids = kmeans.cluster_centers_\n",
    "\n",
    "# Plot the centroid coordinates as latitude and longitude\n",
    "plt.scatter(centroids[:, 2], centroids[:, 3], c='red', marker='x', label='Centroids')\n",
    "plt.xlabel('Longitude')\n",
    "plt.ylabel('Latitude')\n",
    "plt.title('Cluster Centroids')\n",
    "plt.legend()\n",
    "plt.show()"
   ]
  },
  {
   "cell_type": "code",
   "execution_count": 13,
   "id": "4855c350",
   "metadata": {},
   "outputs": [
    {
     "data": {
      "image/png": "[encoded data removed]",
      "text/plain": [
       "<Figure size 640x480 with 1 Axes>"
      ]
     },
     "metadata": {},
     "output_type": "display_data"
    },
    {
     "name": "stdout",
     "output_type": "stream",
     "text": [
      "Optimal number of clusters (k): 9\n"
     ]
    }
   ],
   "source": [
    "# Define the range of clusters to explore\n",
    "min_clusters = 2\n",
    "max_clusters = 10\n",
    "\n",
    "# Perform K-Means clustering for different values of k\n",
    "wcss = []\n",
    "for k in range(min_clusters, max_clusters + 1):\n",
    "    kmeans = KMeans(n_clusters=k, random_state=42)\n",
    "    kmeans.fit(X)\n",
    "    wcss.append(kmeans.inertia_)\n",
    "\n",
    "# Plot the within-cluster sum of squares (WCSS) or distortion\n",
    "plt.plot(range(min_clusters, max_clusters + 1), wcss, marker='o')\n",
    "plt.xlabel('Number of Clusters (k)')\n",
    "plt.ylabel('WCSS')\n",
    "plt.title('Elbow Method - Optimal Number of Clusters')\n",
    "\n",
    "# Find the point of inflection (optimal number of clusters)\n",
    "diff = [wcss[i] - wcss[i-1] for i in range(1, len(wcss))]\n",
    "optimal_k = diff.index(max(diff)) + min_clusters\n",
    "\n",
    "# Mark the optimal number of clusters on the plot\n",
    "plt.axvline(x=optimal_k, color='r', linestyle='--', label='Optimal k')\n",
    "plt.legend()\n",
    "\n",
    "plt.show()\n",
    "\n",
    "print(f\"Optimal number of clusters (k): {optimal_k}\")"
   ]
  },
  {
   "cell_type": "code",
   "execution_count": 14,
   "id": "95f2167c",
   "metadata": {},
   "outputs": [
    {
     "name": "stdout",
     "output_type": "stream",
     "text": [
      "2    2512\n",
      "8    2471\n",
      "7    2460\n",
      "0    2303\n",
      "4    2082\n",
      "6    2030\n",
      "1    2023\n",
      "5    2014\n",
      "3    1994\n",
      "Name: cluster, dtype: int64\n"
     ]
    }
   ],
   "source": [
    "from sklearn.cluster import KMeans\n",
    "\n",
    "X = df[features]\n",
    "\n",
    "# Perform K-Means clustering\n",
    "k = 9 # Number of clusters\n",
    "kmeans = KMeans(n_clusters=k, random_state=42)\n",
    "kmeans.fit(X)\n",
    "\n",
    "# Add cluster labels to the dataset\n",
    "df['cluster'] = kmeans.labels_\n",
    "\n",
    "# Analyze cab retention based on clusters\n",
    "cluster_counts = df['cluster'].value_counts()\n",
    "print(cluster_counts)"
   ]
  },
  {
   "cell_type": "code",
   "execution_count": 15,
   "id": "10ff3f67",
   "metadata": {},
   "outputs": [
    {
     "data": {
      "text/html": [
       "<div>\n",
       "<style scoped>\n",
       "    .dataframe tbody tr th:only-of-type {\n",
       "        vertical-align: middle;\n",
       "    }\n",
       "\n",
       "    .dataframe tbody tr th {\n",
       "        vertical-align: top;\n",
       "    }\n",
       "\n",
       "    .dataframe thead th {\n",
       "        text-align: right;\n",
       "    }\n",
       "</style>\n",
       "<table border=\"1\" class=\"dataframe\">\n",
       "  <thead>\n",
       "    <tr style=\"text-align: right;\">\n",
       "      <th></th>\n",
       "      <th>pickup_longitude</th>\n",
       "      <th>pickup_latitude</th>\n",
       "    </tr>\n",
       "  </thead>\n",
       "  <tbody>\n",
       "    <tr>\n",
       "      <th>0</th>\n",
       "      <td>-73.008194</td>\n",
       "      <td>40.216711</td>\n",
       "    </tr>\n",
       "    <tr>\n",
       "      <th>1</th>\n",
       "      <td>-72.764713</td>\n",
       "      <td>40.086749</td>\n",
       "    </tr>\n",
       "    <tr>\n",
       "      <th>2</th>\n",
       "      <td>-72.767633</td>\n",
       "      <td>40.083596</td>\n",
       "    </tr>\n",
       "    <tr>\n",
       "      <th>3</th>\n",
       "      <td>-72.639812</td>\n",
       "      <td>40.017206</td>\n",
       "    </tr>\n",
       "    <tr>\n",
       "      <th>4</th>\n",
       "      <td>-72.978410</td>\n",
       "      <td>40.203777</td>\n",
       "    </tr>\n",
       "    <tr>\n",
       "      <th>5</th>\n",
       "      <td>-72.582808</td>\n",
       "      <td>39.984397</td>\n",
       "    </tr>\n",
       "    <tr>\n",
       "      <th>6</th>\n",
       "      <td>-72.917828</td>\n",
       "      <td>40.168269</td>\n",
       "    </tr>\n",
       "    <tr>\n",
       "      <th>7</th>\n",
       "      <td>-72.801718</td>\n",
       "      <td>40.103719</td>\n",
       "    </tr>\n",
       "    <tr>\n",
       "      <th>8</th>\n",
       "      <td>-73.105163</td>\n",
       "      <td>40.273754</td>\n",
       "    </tr>\n",
       "  </tbody>\n",
       "</table>\n",
       "</div>"
      ],
      "text/plain": [
       "   pickup_longitude  pickup_latitude\n",
       "0        -73.008194        40.216711\n",
       "1        -72.764713        40.086749\n",
       "2        -72.767633        40.083596\n",
       "3        -72.639812        40.017206\n",
       "4        -72.978410        40.203777\n",
       "5        -72.582808        39.984397\n",
       "6        -72.917828        40.168269\n",
       "7        -72.801718        40.103719\n",
       "8        -73.105163        40.273754"
      ]
     },
     "execution_count": 15,
     "metadata": {},
     "output_type": "execute_result"
    }
   ],
   "source": [
    "# Get the cluster labels\n",
    "cluster_labels = kmeans.labels_\n",
    "\n",
    "# Get the cluster centroids\n",
    "centroids = kmeans.cluster_centers_\n",
    "\n",
    "# Convert the cluster centroids to a DataFrame for better visualization\n",
    "centroids_df = pd.DataFrame(centroids, columns=['tpep_pickup_numeric','tpep_dropoff_numeric','passenger_count', 'trip_distance', 'pickup_longitude', 'pickup_latitude', 'dropoff_longitude', 'dropoff_latitude'])\n",
    "\n",
    "# Print the centroids DataFrame\n",
    "centroids_df[[\"pickup_longitude\",\"pickup_latitude\"]]\n"
   ]
  },
  {
   "cell_type": "code",
   "execution_count": 16,
   "id": "ed2d3533",
   "metadata": {},
   "outputs": [
    {
     "name": "stdout",
     "output_type": "stream",
     "text": [
      "C:\\Users\\HP\\rentention using.pickle\n"
     ]
    }
   ],
   "source": [
    "import os\n",
    "import sys\n",
    "import pickle\n",
    "\n",
    "projectabspathname = os.path.abspath('rentention using.pickle')\n",
    "print(projectabspathname)\n",
    "projectname = 'rentention using.ipynb'\n",
    "projectpickle = open(str(projectabspathname),'wb')\n",
    "pickle.dump(projectname, projectpickle)\n",
    "projectpickle.close()"
   ]
  },
  {
   "cell_type": "code",
   "execution_count": null,
   "id": "3df9d95c",
   "metadata": {},
   "outputs": [],
   "source": []
  }
 ],
 "metadata": {
  "kernelspec": {
   "display_name": "Python 3 (ipykernel)",
   "language": "python",
   "name": "python3"
  },
  "language_info": {
   "codemirror_mode": {
    "name": "ipython",
    "version": 3
   },
   "file_extension": ".py",
   "mimetype": "text/x-python",
   "name": "python",
   "nbconvert_exporter": "python",
   "pygments_lexer": "ipython3",
   "version": "3.9.13"
  }
 },
 "nbformat": 4,
 "nbformat_minor": 5
}
